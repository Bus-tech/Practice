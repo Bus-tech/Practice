{
  "cells": [
    {
      "cell_type": "markdown",
      "metadata": {
        "id": "b-MeKKMs55WA"
      },
      "source": [
        "# Practical Machine Learning \n",
        "### Project: Model Selection"
      ]
    },
    {
      "cell_type": "markdown",
      "metadata": {
        "id": "FEge15Hl55WD"
      },
      "source": [
        "# Abstract"
      ]
    },
    {
      "cell_type": "markdown",
      "metadata": {
        "id": "rmJJOdz955WE"
      },
      "source": [
        "# Part 1: Business and Data Understanding"
      ]
    },
    {
      "cell_type": "markdown",
      "metadata": {
        "id": "9ZTAseNUY7Gq"
      },
      "source": [
        "### Q. Define the problem domain"
      ]
    },
    {
      "cell_type": "code",
      "execution_count": null,
      "metadata": {
        "id": "0cchKOX0sa2I"
      },
      "outputs": [],
      "source": [
        "# Outcome a measure reading habits of individuals\n",
        "# Useful to understand factors that determines reading habits\n",
        "# Could be an index determine the most influential factor "
      ]
    },
    {
      "cell_type": "markdown",
      "metadata": {
        "id": "J60Gyg7esiln"
      },
      "source": []
    },
    {
      "cell_type": "markdown",
      "metadata": {
        "id": "QIvS-4NLZ7BL"
      },
      "source": [
        "### Q. Identify candidate questions for your machine learning project"
      ]
    },
    {
      "cell_type": "code",
      "execution_count": null,
      "metadata": {
        "id": "EP0LpIGwuBU5"
      },
      "outputs": [],
      "source": [
        "# What columns should be evaluated\n",
        "# Can I use the dataset as-is or does it need cleaning\n",
        "# Discreets or continuous numbers\n",
        "# Features, Dimensions, Variables\n",
        "# Value_counts"
      ]
    },
    {
      "cell_type": "markdown",
      "metadata": {
        "id": "K_EWcKs255WG"
      },
      "source": [
        "### Q. Identify a suitable dataset for your canditate question(s)"
      ]
    },
    {
      "cell_type": "markdown",
      "metadata": {
        "id": "NA2qaEL155WH"
      },
      "source": [
        "Go have a look at any of these websites:\n",
        "\n",
        "* https://www.kaggle.com/datasets \n",
        "* https://datasetsearch.research.google.com/\n",
        "* https://data.gov.uk/\n",
        "\n",
        "Find an interesting looking data set related to your problem domain and get a copy of it\n"
      ]
    },
    {
      "cell_type": "code",
      "execution_count": null,
      "metadata": {
        "id": "c-3GeJg7uUKT"
      },
      "outputs": [],
      "source": [
        "# import all needed libraries\n",
        "import numpy as np\n",
        "import pandas as pd\n",
        "import seaborn as sns\n",
        "import matplotlib.pyplot as plt"
      ]
    },
    {
      "cell_type": "code",
      "execution_count": null,
      "metadata": {
        "id": "xo15Q_clumVY"
      },
      "outputs": [],
      "source": [
        "# upload data\n",
        "data = pd.read_csv('readinghabits.csv')\n",
        "data.head()"
      ]
    },
    {
      "cell_type": "code",
      "execution_count": null,
      "metadata": {
        "id": "6rSDV0YlasGD"
      },
      "outputs": [],
      "source": [
        "data.tail()"
      ]
    },
    {
      "cell_type": "code",
      "execution_count": null,
      "metadata": {
        "id": "vE8ZATjpbFn0"
      },
      "outputs": [],
      "source": [
        "data.info()"
      ]
    },
    {
      "cell_type": "code",
      "execution_count": null,
      "metadata": {
        "id": "Alq7tS5_bRVb"
      },
      "outputs": [],
      "source": [
        "data.shape\n",
        "print(\"dataset contain\",data.shape[0], 'rows and',data.shape[1], 'columns')"
      ]
    },
    {
      "cell_type": "code",
      "execution_count": null,
      "metadata": {
        "id": "wbpDtw0NbZ1c"
      },
      "outputs": [],
      "source": [
        "out = data.describe().T\n",
        "out"
      ]
    },
    {
      "cell_type": "code",
      "execution_count": null,
      "metadata": {
        "id": "A7AoH-o6binu"
      },
      "outputs": [],
      "source": [
        "data.columns"
      ]
    },
    {
      "cell_type": "code",
      "execution_count": null,
      "metadata": {
        "id": "M1upTRAvbwq6"
      },
      "outputs": [],
      "source": [
        "# Cardinality - unique values count\n",
        "for cname in data.columns:\n",
        "  print(cname + \" : \" + str(data[cname].value_counts().count()))"
      ]
    },
    {
      "cell_type": "markdown",
      "metadata": {
        "id": "_EHijE8ed5r6"
      },
      "source": [
        "# Part 2: Data Preparation"
      ]
    },
    {
      "cell_type": "markdown",
      "metadata": {
        "id": "Qu5n7JjldKsB"
      },
      "source": [
        "### Q. Discuss the following types of missing data and how they would be handled in reference to your dataset where applicable.\n",
        "*\tMissing completely at random (MCAR)\n",
        "*\tMissing at random (MAR)\n",
        "*\tMissing Not at Random (MNAR)"
      ]
    },
    {
      "cell_type": "markdown",
      "metadata": {
        "id": "Dj6RgwAczhhw"
      },
      "source": [
        "Q. Is there any correlation in the data? How would you decide which columns to keep?"
      ]
    },
    {
      "cell_type": "code",
      "execution_count": null,
      "metadata": {
        "id": "jOx4qs99Bm-F"
      },
      "outputs": [],
      "source": [
        "df=data\n",
        "new_df = df.dropna()\n",
        "print(new_df.to_string())"
      ]
    },
    {
      "cell_type": "code",
      "execution_count": null,
      "metadata": {
        "id": "l7RI9X81FL6q"
      },
      "outputs": [],
      "source": [
        "df=data\n",
        "new_df.dropna(inplace = True)\n",
        "print(new_df.to_string())"
      ]
    },
    {
      "cell_type": "code",
      "execution_count": null,
      "metadata": {
        "id": "Zd9jufm_Jftm"
      },
      "outputs": [],
      "source": [
        "new_df[\"Sex\"] = np.where(new_df[\"Sex\"] == \"female\", 0, 1)\n",
        "print(new_df)"
      ]
    },
    {
      "cell_type": "code",
      "execution_count": null,
      "metadata": {
        "id": "wFIhRQijMjE5"
      },
      "outputs": [],
      "source": [
        "df.loc[df[\"Education\"] == \" College graduate\", \"Education\"] = 1\n",
        "df.loc[df[\"Education\"] == \" High school incomplete\", \"Education\"] = 2\n",
        "df.loc[df[\"Education\"] == \" Post-graduate training/professional school after college \", \"Education\"] = 3\n",
        "df.loc[df[\"Education\"] == \" Some college, no 4-year degree\", \"Education\"] = 4\n",
        "df.loc[df[\"Education\"] == \" Technical, trade or vocational school AFTER high school\", \"Education\"] = 5\n",
        "df.loc[df[\"Education\"] == \" High school graduate\", \"Education\"] = 6\n",
        "print(new_df)"
      ]
    },
    {
      "cell_type": "code",
      "execution_count": null,
      "metadata": {
        "id": "EdLZDXI-N-Va"
      },
      "outputs": [],
      "source": [
        "new_df.head"
      ]
    },
    {
      "cell_type": "code",
      "execution_count": null,
      "metadata": {
        "id": "SdSbI3Ltg3jX"
      },
      "outputs": [],
      "source": [
        "new_df.corr"
      ]
    },
    {
      "cell_type": "code",
      "execution_count": null,
      "metadata": {
        "id": "LdYYp3QIh6M0"
      },
      "outputs": [],
      "source": [
        "new_df.columns\n",
        "\n",
        "features = ['Age', 'Sex', 'Race', 'Marital status?', 'Education', 'Employement',\n",
        "       'Incomes', 'How many books did you read during last 12months?',\n",
        "       'Read any printed books during last 12months?',\n",
        "       'Read any audiobooks during last 12months?',\n",
        "       'Read any e-books during last 12months?', 'Last book you read, you…',\n",
        "       'Do you happen to read any daily news or newspapers?',\n",
        "       'Do you happen to read any magazines or journals?']"
      ]
    },
    {
      "cell_type": "code",
      "execution_count": null,
      "metadata": {
        "id": "4uL-nSLEhmlM"
      },
      "outputs": [],
      "source": [
        "x = new_df.loc[:, features]  \n",
        "y = new_df.loc[:, 'Education']  \n",
        "x.dropna(inplace=True)\n",
        "print(x.shape)\n",
        "print(y.shape)\n",
        "x.head()"
      ]
    },
    {
      "cell_type": "code",
      "execution_count": null,
      "metadata": {
        "id": "K2hiwYpMLQ81"
      },
      "outputs": [],
      "source": [
        "x.tail()"
      ]
    },
    {
      "cell_type": "code",
      "execution_count": null,
      "metadata": {
        "id": "l1kXunBRhCaq"
      },
      "outputs": [],
      "source": [
        "corr = x.corr()\n",
        "plt.figure()\n",
        "sns.heatmap(corr)\n",
        "plt.show()"
      ]
    },
    {
      "cell_type": "code",
      "execution_count": null,
      "metadata": {
        "id": "w4IPBfEu48S3"
      },
      "outputs": [],
      "source": [
        "print('*********')\n",
        "all_label_values = list(dict(y.value_counts()).keys())\n",
        "logic = lambda x: 0 if (x == all_label_values[0] or x== all_label_values[1]) else 1\n",
        "y2 = y.map(logic)\n",
        "y2[:10]"
      ]
    },
    {
      "cell_type": "code",
      "execution_count": null,
      "metadata": {
        "id": "Ti0WxgA5lH8U"
      },
      "outputs": [],
      "source": [
        "from sklearn.preprocessing import LabelEncoder \n",
        "\n",
        "for col in x.columns:\n",
        "    le = LabelEncoder()\n",
        "    x[col]= le.fit_transform(x[col])\n",
        "    \n",
        "x.head()\n"
      ]
    },
    {
      "cell_type": "markdown",
      "metadata": {
        "id": "BxVE5JzEoQjN"
      },
      "source": []
    },
    {
      "cell_type": "markdown",
      "metadata": {
        "id": "GpYeA7mtzf_w"
      },
      "source": [
        "# Part 3: Model Selection\n"
      ]
    },
    {
      "cell_type": "code",
      "execution_count": null,
      "metadata": {
        "id": "BPk0TyjDoY1U"
      },
      "outputs": [],
      "source": [
        "# train and test data\n",
        "from sklearn.model_selection import train_test_split\n",
        "xtrain,xtest, ytrain,ytest = train_test_split(x, y2, test_size=0.2, random_state=42)"
      ]
    },
    {
      "cell_type": "code",
      "execution_count": null,
      "metadata": {
        "id": "JZr71clfoxht"
      },
      "outputs": [],
      "source": [
        "from sklearn.preprocessing import LabelEncoder \n",
        "\n",
        "for col in x.columns:\n",
        "    le = LabelEncoder()\n",
        "    x[col]= le.fit_transform(x[col])\n",
        "    \n",
        "x.head()"
      ]
    },
    {
      "cell_type": "code",
      "execution_count": null,
      "metadata": {
        "id": "AHk3nL9xU-As"
      },
      "outputs": [],
      "source": [
        "corr = x.corr()\n",
        "import matplotlib.pyplot as plt\n",
        "import seaborn as sns\n",
        "plt.figure()\n",
        "sns.heatmap(corr)\n",
        "plt.show()"
      ]
    },
    {
      "cell_type": "markdown",
      "metadata": {
        "id": "brAMZC7xzpAp"
      },
      "source": [
        "### Q. Use the cheat sheet below to choose the algorithm/estimator suitable for building a model to address your candidate question(s)\n",
        "\n",
        "* https://scikit-learn.org/stable/tutorial/machine_learning_map/"
      ]
    },
    {
      "cell_type": "code",
      "execution_count": null,
      "metadata": {
        "id": "Q9vFsc4wolWL"
      },
      "outputs": [],
      "source": [
        "# xtrain,xtest, ytrain,ytest = train_test_split\n",
        "\n",
        "from sklearn.ensemble import RandomForestClassifier\n",
        "from sklearn.naive_bayes import GaussianNB\n",
        "from sklearn.tree import DecisionTreeClassifier\n",
        "from sklearn.neighbors import KNeighborsClassifier\n",
        "from sklearn.svm import LinearSVC\n",
        "\n",
        "\n",
        "ntree1, ntree2 = 50,100\n",
        "from sklearn.metrics import accuracy_score\n",
        "for algo in [RandomForestClassifier(n_estimators=ntree1), RandomForestClassifier(n_estimators=ntree2), GaussianNB(), DecisionTreeClassifier(), KNeighborsClassifier(), LinearSVC()]:\n",
        "  model = algo\n",
        "  model.fit(xtrain, ytrain)\n",
        "  predictions = model.predict(xtest)\n",
        "  print(accuracy_score(predictions, ytest))"
      ]
    },
    {
      "cell_type": "markdown",
      "metadata": {
        "id": "VOS6zbCzE00N"
      },
      "source": []
    },
    {
      "cell_type": "markdown",
      "metadata": {
        "id": "mZpjGb3Tz9UJ"
      },
      "source": [
        "# Part 4: Model Evaluation"
      ]
    },
    {
      "cell_type": "markdown",
      "metadata": {
        "id": "rehc7JjyE4cX"
      },
      "source": []
    },
    {
      "cell_type": "markdown",
      "metadata": {
        "id": "aH8du6xf0EoY"
      },
      "source": [
        "### Q. Identify which of the statistical measures below are suitable for the evaluation of your model.\n",
        "\n",
        "Classification Metrics:\n",
        "* Accuracy\n",
        "* Precision\n",
        "* Recall\n",
        "* F1 Score\n",
        "\n",
        "Regression Metrics:\n",
        "    \n",
        "* Mean absolute error (MAE)\n",
        "* Root mean squared error (RMSE)\n",
        "* Relative absolute error (RAE)\n",
        "* Relative squared error (RSE)\n",
        "* Mean Zero One Error (MZOE)\n",
        "* Coefficient of determination\n",
        "\n",
        " "
      ]
    },
    {
      "cell_type": "code",
      "execution_count": null,
      "metadata": {
        "id": "nRXbWRs9E_yK"
      },
      "outputs": [],
      "source": [
        "from sklearn.neighbors import KNeighborsClassifier\n",
        "final_model = KNeighborsClassifier()\n",
        "final_model.fit(xtrain,ytrain)\n",
        "p = final_model.predict(xtest)\n",
        "print(accuracy_score(p, ytest))"
      ]
    },
    {
      "cell_type": "code",
      "execution_count": null,
      "metadata": {
        "id": "MEzu8cCs4Kk5"
      },
      "outputs": [],
      "source": [
        "from joblib import dump\n",
        "dump(final_model, 'reading_habits')\n",
        "['reading_habits']"
      ]
    },
    {
      "cell_type": "code",
      "execution_count": null,
      "metadata": {
        "id": "D5UvrHZ_4cbk"
      },
      "outputs": [],
      "source": [
        "import sklearn\n",
        "sklearn.__version__"
      ]
    },
    {
      "cell_type": "markdown",
      "metadata": {
        "id": "idRtfuj9FPxF"
      },
      "source": []
    },
    {
      "cell_type": "markdown",
      "metadata": {
        "id": "KxbqH44c0N9g"
      },
      "source": [
        "# Part 5: Stretch - Model Deployment"
      ]
    },
    {
      "cell_type": "markdown",
      "metadata": {
        "id": "m2Q-WMVp0TW_"
      },
      "source": [
        "### Q. Evaluate the open-source app framework for Machine Learning model deployment below in your own time.\n",
        "\n",
        "* https://streamlit.io/"
      ]
    },
    {
      "cell_type": "code",
      "execution_count": null,
      "metadata": {
        "id": "NwXCbQwpFaau"
      },
      "outputs": [],
      "source": [
        "# I've ran out of subscribition, hence I could not do ML model and endpoints"
      ]
    }
  ],
  "metadata": {
    "colab": {
      "collapsed_sections": [],
      "name": "fproject.ipynb",
      "provenance": []
    },
    "kernelspec": {
      "display_name": "Python 3",
      "name": "python3"
    },
    "language_info": {
      "name": "python"
    }
  },
  "nbformat": 4,
  "nbformat_minor": 0
}
